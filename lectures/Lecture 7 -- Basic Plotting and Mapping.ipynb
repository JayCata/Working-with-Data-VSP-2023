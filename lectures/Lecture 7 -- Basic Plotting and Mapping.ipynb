{
 "cells": [
  {
   "cell_type": "markdown",
   "id": "3ccf7783",
   "metadata": {},
   "source": [
    "# Lecture 7a -- Basic Plotting and Mapping\n",
    "One of the most important tools in a data scientist's arsenal is visualization and plotting. This is because visualizations are frequently the best way of communicating data to an audience and understanding it yourself. We have already seen some very basic scatter and line plots using `matplotlib.pyplot`.  In this lecture, we will also learn how customize certain aspects of our visualizations to our needs. IN this lecture, students will learn \n",
    "- How to make subplots within a single figure\n",
    "- The difference between a figure and an axis\n",
    "- Various properties of plots that can be customized\n",
    "- What a line plot is actually doing and the benefit of using a fine `np.linspace` when constructing plots. \n",
    "- Creating maps with `GeoPandas` and `matplotlib`\n",
    "- Creating interactive maps with bokeh\n",
    "\n",
    "There are so many customization options, different plot types, etc. We won't be able to cover them all in this lecture, but you can always visit the [matplotlib documentation](https://matplotlib.org/stable/) which has plenty of examples. I also suggest QuantEcon's lecture on [Intermediate Plotting](https://datascience.quantecon.org/tools/matplotlib.html).\n",
    "\n",
    "More advanced plotting functionality and syntax is frequently best learned needed because it can also be easy to forget unless you use it regularly. \n",
    "\n"
   ]
  },
  {
   "cell_type": "markdown",
   "id": "a8df1fab",
   "metadata": {},
   "source": [
    "## Creating Effective Visaulzations in Four Steps\n",
    "Here are four general steps for creating an effective visualizations:\n",
    "1. **Identify your message** \n",
    "    - What is the purpose of this visualiazation? What do you want your audience to understand after seeing it?\n",
    "2. **Describe your visualization**\n",
    "    - What type of visualization best communicates your message? What values do you need to construct the visualization? Will this visualization be accompanied by words (either written or spoken) that can help communicate the message?\n",
    "3. **Create a first draft of the visualizaiton**\n",
    "    - Make a first attempt at your visualization. Does it look as you expect? If not, does it look like anything might be wrong with your data or code? If so, can you understand the message by looking at it? How about a stranger?\n",
    "4. **Iterate and improve upon your visualization**\n",
    "    - How can you make the visualization more informative and aesthetically appealing? This is where you tinker with colors, alignments, labels, titles, legends, tick marks etc. to find the optimal visualization. \n",
    "\n",
    "We won't discuss examples of good and bad visualization in this lecture.  There are lecture notes on [\"Data Visualization Rules and Guidelines\"](https://datascience.quantecon.org/tools/visualization_rules.html) on QuantEcon. I highly suggest you read them when you get a chance.\n",
    "\n"
   ]
  },
  {
   "cell_type": "markdown",
   "id": "94d8da51",
   "metadata": {},
   "source": [
    "## `matplotlib` and `pyplot`\n",
    "`matplotlib` is a popular plotting and visualization package in Python. In past examples and for this lecture, we will be using the sub-module `pyplot`. Below, we import `matplotlib.pyplot` as well as `numpy` using the standard aliases. We will also import `math` for use later. "
   ]
  },
  {
   "cell_type": "code",
   "execution_count": null,
   "id": "5306ef86",
   "metadata": {},
   "outputs": [],
   "source": [
    "import numpy as np\n",
    "import matplotlib.pyplot as plt\n",
    "import math\n",
    "import geopandas as gpd\n",
    "import pandas as pd\n",
    "from shapely.geometry import Point\n",
    "from pyproj import CRS"
   ]
  },
  {
   "cell_type": "markdown",
   "id": "c3f45c9b",
   "metadata": {},
   "source": [
    "## `plt.subplots`\n",
    "Up until this point, we have beeusing `plt.plot` which is probably the simplest plotting function.  Now, we demonstrate `plt.subplots()` which gives us more customization over our visualization and allows us to have many axes within one figure.  It is best to learn through example. Below, we plot the function \n",
    "$y = sin(x) + |x|$ for $x$ in  $[-4\\pi,4 \\pi]$."
   ]
  },
  {
   "cell_type": "code",
   "execution_count": null,
   "id": "2bca2adb",
   "metadata": {
    "scrolled": false
   },
   "outputs": [],
   "source": [
    "# Initialize plot -- subplots returns two objects, a figure and axes\n",
    "fig, ax = plt.subplots()\n",
    "\n",
    "# Next we use np.linspace() to create our x values\n",
    "x = np.linspace(-4 * np.pi, 4 * np.pi, 100)\n",
    "# Generate y\n",
    "y = np.sin(x) + np.abs(x) \n",
    "\n",
    "# Plug the values into our plot\n",
    "ax.plot(x, y)"
   ]
  },
  {
   "cell_type": "markdown",
   "id": "e6a62304",
   "metadata": {},
   "source": [
    "## Figures and Axes\n",
    "In the code above, initializaing `plt.subplots()` returned a figure object and an axis object which we called `fig` and `ax` respectively. QuantEcon uses the analogy of a framed painting. \n",
    "- The axis is is the canvas on which we draw plots \n",
    "- The figure is the entire framed painting, including the axis itself.\n",
    "\n",
    "We can actually change the color of both of these objects and observe what happens."
   ]
  },
  {
   "cell_type": "code",
   "execution_count": null,
   "id": "6c6cc6b9",
   "metadata": {
    "scrolled": false
   },
   "outputs": [],
   "source": [
    "fig, ax = plt.subplots()\n",
    "\n",
    "fig.set_facecolor(\"green\") # This makes the edges green\n",
    "ax.set_facecolor(\"purple\") # This makes the \"canvas\" purple"
   ]
  },
  {
   "cell_type": "markdown",
   "id": "b561a0f3",
   "metadata": {},
   "source": [
    "## Multiple Axes\n",
    "This figure/axis separation allows us to display many  axes on a single figure. \n",
    "Below, we plot many sine waves of varying frequencies on the same figure. "
   ]
  },
  {
   "cell_type": "code",
   "execution_count": null,
   "id": "9089aeb8",
   "metadata": {
    "scrolled": false
   },
   "outputs": [],
   "source": [
    "fig, axes = plt.subplots(2, 2) # This creates a figure with 4 axes arranged in a 2x2 grid\n",
    "x_val = np.linspace(-2 * np.pi, 2 * np.pi, num = 1000) # create set of x values\n",
    "freq = np.array([.25, .5, 1, 2]) # various frequencies\n",
    "vec_sin = np.vectorize(np.sin) # vectorize sin function to apply to vectors\n",
    "\n",
    "\n",
    "for i, ax in enumerate(axes.flat): # Loops through each axis to add the lines\n",
    "    ax.plot(x_val, vec_sin(freq[i] * 2 * np.pi* x_val)) # plot red line on each individual axis\n"
   ]
  },
  {
   "cell_type": "markdown",
   "id": "4cbfb1db",
   "metadata": {},
   "source": [
    "## Making Your Plots Look Nice\n",
    "So far, we have created very bare bones figures, but `pyplot` allows for a lot of additional customization. For example, we might want to include titles in the plots above, an x-axis label, or y-axis labels. We can even vary the colors of the lines!"
   ]
  },
  {
   "cell_type": "code",
   "execution_count": null,
   "id": "aa70bb98",
   "metadata": {
    "scrolled": false
   },
   "outputs": [],
   "source": [
    "plot_colors = [\"red\", \"orange\", \"purple\", \"green\"]\n",
    "for i, ax in enumerate(axes.flat):\n",
    "    ax.plot(x_val, vec_sin(freq[i] * 2 * np.pi* x_val), color = plot_colors[i])\n",
    "    ax.set_title(\"Sine Wave with Freq=\" + str(freq[i])) \n",
    "    ax.set_xlabel(\"x\") \n",
    "    ax.set_ylabel(\"y\") \n",
    "    ax.set_label(freq[i])\n",
    "\n",
    "fig"
   ]
  },
  {
   "cell_type": "markdown",
   "id": "dbcb710a",
   "metadata": {},
   "source": [
    "## Overlapping Text\n",
    "Unfortunately, all of the titles and x-axis labels we added overlap with the axis tik marks. To fix this, we can simply call `fig.tight_layout()` to make sure all labels and other text do not overlap with eachother. "
   ]
  },
  {
   "cell_type": "code",
   "execution_count": null,
   "id": "328d1de7",
   "metadata": {
    "scrolled": false
   },
   "outputs": [],
   "source": [
    "fig.tight_layout()\n",
    "fig"
   ]
  },
  {
   "cell_type": "markdown",
   "id": "270dae7f",
   "metadata": {},
   "source": [
    "## Coarsness of `np.linspace()`\n",
    "When creating line plots of these functions, we are actually plotting many points and connecting them with lines. The x values are generated by a `np.linspace()` call and the y values are generated by taking some function (such as `np.sin()`) of those x values. Generally speaking, the finer our grid of points generated by `np.linspace()`, the more our plot will resemble the true function.\n",
    "\n",
    "Below, we consider coarse and finer grid values. We also illustrate the use of `label` and `legend` to label lines. "
   ]
  },
  {
   "cell_type": "code",
   "execution_count": null,
   "id": "83fc792c",
   "metadata": {
    "scrolled": false
   },
   "outputs": [],
   "source": [
    "x_fine = np.linspace(-2 * np.pi, 2 * np.pi, num = 100)\n",
    "x_coarse = np.linspace(-2 * np.pi, 2 * np.pi, num = 10)\n",
    "\n",
    "y_fine = np.sin(x_fine)\n",
    "y_coarse = np.sin(x_coarse)\n",
    "\n",
    "fig, ax = plt.subplots()\n",
    "ax.plot(x_coarse, y_coarse, label = \"coarse line\")\n",
    "ax.plot(x_fine, y_fine, label = \"fine line\")\n",
    "fig.legend()\n",
    "ax.set_title(\"Coarse vs. Fine Sine Function\")"
   ]
  },
  {
   "cell_type": "markdown",
   "id": "fc80020c",
   "metadata": {},
   "source": [
    "This plot makes it clear that a fine grid will generally result in a better looking curve. If we look at scatter plots instead of line plots, we can see the points that the line plot is interpolating between. "
   ]
  },
  {
   "cell_type": "code",
   "execution_count": null,
   "id": "433d3899",
   "metadata": {
    "scrolled": false
   },
   "outputs": [],
   "source": [
    "fig, ax = plt.subplots(2)\n",
    "ax[0].scatter(x_coarse, y_coarse, label = \"coarse points\")\n",
    "ax[0].plot(x_coarse, y_coarse, label = \"coarse points\")\n",
    "ax[1].scatter(x_fine, y_fine, label = \"fine points\")\n",
    "ax[1].plot(x_fine, y_fine, label = \"fine points\")\n",
    "ax[0].set_title(\"Coarse vs. Fine Sine Si Function\")"
   ]
  },
  {
   "cell_type": "markdown",
   "id": "c48b78ad",
   "metadata": {},
   "source": [
    "## Saving Plots\n",
    "Sometimes, we want to save plots as image files so we can use the figures we create in other applications. Using the `.savefig()` method on a plot object. use the suffix to specify the filetype. "
   ]
  },
  {
   "cell_type": "code",
   "execution_count": null,
   "id": "7cc0385c",
   "metadata": {},
   "outputs": [],
   "source": [
    "pwd()"
   ]
  },
  {
   "cell_type": "code",
   "execution_count": null,
   "id": "2754acf5",
   "metadata": {},
   "outputs": [],
   "source": [
    "fig.savefig(\"..//lecture_generated_objects//coarse_fine_sine.png\")\n",
    "fig.savefig(\"..//lecture_generated_objects//coarse_fine_sine.jpeg\")"
   ]
  },
  {
   "cell_type": "markdown",
   "id": "8747a0ce",
   "metadata": {},
   "source": [
    "## Mapping\n",
    "Now we are going to switch gears and talk about mapping in Python. To do this, we will use the `geopandas` package. GeoPandas makes it easier to process geospatial data. While geospatial data is used for many purposes, our ultimate goal is to visualize geospatial data using maps. \n",
    "\n",
    "This section focuses on the same material as QuantEcon's lecture on [Mapping in Python](https://datascience.quantecon.org/tools/maps.html) but with different examples. \n",
    "\n",
    "\n",
    "In this lecture, our ultimate goal will be to have a plot of Canada and the markers/labels for the following nine cities in Canada.\n"
   ]
  },
  {
   "cell_type": "code",
   "execution_count": null,
   "id": "f456f659",
   "metadata": {},
   "outputs": [],
   "source": [
    "## City Info\n",
    "cities = ['Toronto', 'Montreal', 'Calgary', 'Edmonton', 'Ottawa', 'Winnipeg',\n",
    "             'Vancouver',  'Halifax']\n",
    "provinces = ['Ontario', 'Quebec', 'Alberta', 'Alberta', 'Ontario', 'Manitoba',\n",
    "             'British Columbia',  'Nova Scotia']\n",
    "df = pd.DataFrame({\n",
    "    'City': cities,\n",
    "    'Country': 8*[\"Canada\"],\n",
    "    'Province': provinces,\n",
    "    'Latitude': np.array([43.7, 45.509, 51.05, 53.55, 45.411, 49.884, \n",
    "                  49.25,  44.643]),\n",
    "    'Longitude': np.array([-79.416, -73.588, -114.085, -113.469, -75.698, -97.147, \n",
    "                  -123.119, -63.577])\n",
    "})"
   ]
  },
  {
   "cell_type": "markdown",
   "id": "7054b7e5",
   "metadata": {},
   "source": [
    "We can use `zip()` to generate a column that contains longitude and latitude as a coordinate pair. "
   ]
  },
  {
   "cell_type": "code",
   "execution_count": null,
   "id": "ad7c0f44",
   "metadata": {
    "scrolled": true
   },
   "outputs": [],
   "source": [
    "df[\"Coordinates\"] = list(zip(df.Longitude, df.Latitude))\n",
    "df.head()"
   ]
  },
  {
   "cell_type": "markdown",
   "id": "30b9bf02",
   "metadata": {},
   "source": [
    "### `Shapely Point` Object\n",
    "Currently, the coordinates have the type tuple. To use these points later, we need to turn them into a `Shapely Point` object using the `.apply()` method with the argumenet `Point`. \n"
   ]
  },
  {
   "cell_type": "code",
   "execution_count": null,
   "id": "3ff5065e",
   "metadata": {},
   "outputs": [],
   "source": [
    "df[\"Coordinates\"] = df[\"Coordinates\"].apply(Point)\n",
    "df.head()"
   ]
  },
  {
   "cell_type": "markdown",
   "id": "7655f48f",
   "metadata": {},
   "source": [
    "### `DataFrame` to `GeoDataFrame`\n",
    "Finally, we have to convert this DataFrame into a GeoDataFrame. GeoDataFrames are DataFrames with added functionality that makes it easier to plot maps. We use the `gpd` function `GeoDataFrame(d)` to convert the DataFrame. We must supply an argument called `geometry` that tells GeoPandas which column should treat as a spatial attribute. "
   ]
  },
  {
   "cell_type": "code",
   "execution_count": null,
   "id": "e4eb28a3",
   "metadata": {
    "scrolled": true
   },
   "outputs": [],
   "source": [
    "gdf = gpd.GeoDataFrame(df, geometry=\"Coordinates\")\n",
    "gdf.head()"
   ]
  },
  {
   "cell_type": "markdown",
   "id": "93a4cac3",
   "metadata": {},
   "source": [
    "Can check its type and figure out which column is the geometry column"
   ]
  },
  {
   "cell_type": "code",
   "execution_count": null,
   "id": "08a2d450",
   "metadata": {
    "scrolled": true
   },
   "outputs": [],
   "source": [
    "print(type(gdf))\n",
    "print(gdf.geometry.name)"
   ]
  },
  {
   "cell_type": "markdown",
   "id": "b8d8e54a",
   "metadata": {},
   "source": [
    "## Still Need a Map\n",
    "Our goal is to plot the locations of our cities on a map of Canada. First, we must obtain and plot the map. Then, we can plot the cities. \n"
   ]
  },
  {
   "cell_type": "markdown",
   "id": "f1a68018",
   "metadata": {},
   "source": [
    "\n",
    "### Obtaining a Canadian Map\n",
    "To get the map, we need to find shapefiles that contain the geometric data needed to plot the contours of a geographic region. I Googled \"Canadian Province Shapefile GeoPandas\" and found that [Statistics Canada](https://www.statcan.gc.ca/en/start) has shapefiles for download [here](https://www12.statcan.gc.ca/census-recensement/2011/geo/bound-limit/bound-limit-2016-eng.cfm). This file is also in the course repository. This is a good approach to finding shapefiles for other geographical objects. "
   ]
  },
  {
   "cell_type": "code",
   "execution_count": null,
   "id": "a545f204",
   "metadata": {
    "scrolled": false
   },
   "outputs": [],
   "source": [
    "can_df = gpd.read_file(\"..//data//canada_shapes//lpr_000b16a_e.shp\")\n",
    "can_df"
   ]
  },
  {
   "cell_type": "markdown",
   "id": "3fa30ba9",
   "metadata": {},
   "source": [
    "### Not all shapefiles use latitude and longitude.\n",
    "Look at the multipolygon coordinates. Do those look like latitude and longitude? If units do not match, our cities won't line up with the Canadian map. Below, we convert the polygon units so they use latitude and longitude."
   ]
  },
  {
   "cell_type": "code",
   "execution_count": null,
   "id": "b40f9d5b",
   "metadata": {},
   "outputs": [],
   "source": [
    "can_df = can_df.to_crs(CRS.from_string('EPSG:4326'))\n",
    "can_df.head()"
   ]
  },
  {
   "cell_type": "markdown",
   "id": "5bbab5bd",
   "metadata": {},
   "source": [
    "## Time to Plot\n",
    " Now, all we need to is plot the city data in our already existing plot. `gdf` "
   ]
  },
  {
   "cell_type": "code",
   "execution_count": null,
   "id": "5145b39c",
   "metadata": {
    "scrolled": false
   },
   "outputs": [],
   "source": [
    "# This line initializes the figure\n",
    "fig, gax = plt.subplots(figsize = (10,15)) \n",
    "# Plot the map\n",
    "can_df.plot(ax=gax, edgecolor='black', color='aliceblue') \n",
    "# Plot the cities\n",
    "gdf.plot(ax=gax, color='red', alpha = .5, markersize = 60) \n",
    "\n",
    "# Sets the Labels\n",
    "gax.set_xlabel('longitude')\n",
    "gax.set_ylabel('latitude')\n",
    "\n",
    "# remove top and right edges\n",
    "gax.spines['top'].set_visible(False)\n",
    "gax.spines['right'].set_visible(False)\n"
   ]
  },
  {
   "cell_type": "markdown",
   "id": "1fe3d308",
   "metadata": {},
   "source": [
    "### One Step Further -- Fill, Labels, and Polish\n",
    "Let's take this map one step further. First, we show how we can use color to communicate numerical information. To do this, we will color provinces according to their populations. We will also add labels to the cities polish other aspects of the plot.\n",
    "\n",
    "First we have to load data on populations into our notebook and join it with the GeoDataFrame we've already created. "
   ]
  },
  {
   "cell_type": "code",
   "execution_count": null,
   "id": "fd1ef2fb",
   "metadata": {
    "scrolled": true
   },
   "outputs": [],
   "source": [
    "pop_df = pd.read_csv(\"..//data//province_pop.csv\")\n",
    "pop_df"
   ]
  },
  {
   "cell_type": "markdown",
   "id": "837fa01d",
   "metadata": {},
   "source": [
    "We can join this with our `GeoDataFrame` using `pd.merge()`."
   ]
  },
  {
   "cell_type": "code",
   "execution_count": null,
   "id": "2b9b3e24",
   "metadata": {},
   "outputs": [],
   "source": [
    "# Merge with geodata\n",
    "pop_df = pd.merge(pop_df, can_df, left_on = \"Geography\", right_on = \"PRENAME\")\n",
    "\n",
    "# Print type -- it's a normal DataFrame\n",
    "print(type(pop_df))\n",
    "\n",
    "# Make it a GeoDataFrame (doesn't like pre-existing column called \"geometry\")\n",
    "pop_df = pop_df.rename(columns = {'geometry':'polygon'})\n",
    "pop_df = gpd.GeoDataFrame(pop_df, geometry = \"polygon\")\n"
   ]
  },
  {
   "cell_type": "code",
   "execution_count": null,
   "id": "06418afb",
   "metadata": {
    "scrolled": false
   },
   "outputs": [],
   "source": [
    "pop_df"
   ]
  },
  {
   "cell_type": "code",
   "execution_count": null,
   "id": "537303d3",
   "metadata": {
    "scrolled": false
   },
   "outputs": [],
   "source": [
    "# Initialize the Plot\n",
    "fig, gax = plt.subplots(figsize = (10,15)) # This line initializes the figure\n",
    "\n",
    "# Plot the map with fill\n",
    "pop_df.plot(ax=gax, edgecolor='grey',  column = \"Q12023\", cmap = \"Wistia\", legend = True, legend_kwds={'shrink': 0.3})\n",
    "# Plot Points\n",
    "gdf.plot(ax=gax, color='blue', alpha = .5, markersize = 60) # plot the cities\n",
    "\n",
    "# Plot Labels -- position labels differently for different cities\n",
    "for x, y, label in zip(gdf['Coordinates'].x, gdf['Coordinates'].y, gdf['City']):\n",
    "    if label not in [\"Montreal\", \"Halifax\", \"Toronto\", \"Ottawa\", \"Vancouver\"]:\n",
    "        gax.annotate(label, xy=(x,y), xytext=(4,4), textcoords='offset points')\n",
    "    elif label in [\"Montreal\", \"Halifax\", \"Toronto\"]:\n",
    "        gax.annotate(label, xy=(x,y), xytext=(4,-6), textcoords='offset points')\n",
    "    elif label in [\"Ottawa\"]:\n",
    "        gax.annotate(label, xy=(x,y), xytext=(-8,4), textcoords='offset points')\n",
    "    elif label in [\"Vancouver\"]:\n",
    "        gax.annotate(label, xy=(x,y), xytext=(-10,4), textcoords='offset points')\n",
    "\n",
    "# Sets the Labels\n",
    "gax.set_xlabel('longitude')\n",
    "gax.set_ylabel('latitude')\n",
    "\n",
    "# Add a Title\n",
    "gax.set_title(\"Q1 2023 Population by Province\")\n",
    "\n",
    "# remove top and right edges\n",
    "gax.spines['top'].set_visible(False)\n",
    "gax.spines['right'].set_visible(False)\n",
    "\n",
    "fig.tight_layout()\n"
   ]
  },
  {
   "cell_type": "markdown",
   "id": "729559be",
   "metadata": {},
   "source": [
    "## Saving Maps\n",
    "Just like with plots, we can use `.savefig()` method on figures that contain maps. "
   ]
  },
  {
   "cell_type": "code",
   "execution_count": null,
   "id": "10241850",
   "metadata": {},
   "outputs": [],
   "source": [
    "fig.savefig(\"..\\\\lecture_generated_objects//canada_polished.png\")"
   ]
  },
  {
   "cell_type": "markdown",
   "id": "2b693038",
   "metadata": {},
   "source": [
    "## Interactive Maps\n",
    "Usinkg the `bokeh` library, we can even make our maps interactive! Now, we can hover over geographic objects to see information about them!"
   ]
  },
  {
   "cell_type": "code",
   "execution_count": null,
   "id": "548b594b",
   "metadata": {},
   "outputs": [],
   "source": [
    "# Import various functions \n",
    "from bokeh.io import output_notebook\n",
    "from bokeh.plotting import figure, ColumnDataSource\n",
    "from bokeh.io import output_notebook, show, output_file\n",
    "from bokeh.plotting import figure, save\n",
    "from bokeh.models import GeoJSONDataSource, LinearColorMapper, ColorBar, HoverTool\n",
    "from bokeh.palettes import brewer\n",
    "\n",
    "# Shows plots in notebook\n",
    "output_notebook()\n",
    "\n",
    "# lets us convert geodf to json format\n",
    "import json\n",
    "\n",
    "#Convert pop_data to geojson for bokeh\n",
    "pop_geojson=GeoJSONDataSource(geojson=pop_df.to_json())\n",
    "# turn cities into json for bokeh\n",
    "gdf_geojson=GeoJSONDataSource(geojson=gdf.to_json()) "
   ]
  },
  {
   "cell_type": "code",
   "execution_count": null,
   "id": "804b3791",
   "metadata": {
    "scrolled": true
   },
   "outputs": [],
   "source": [
    "# Specify the color gradient that represent numeric values\n",
    "color_mapper = LinearColorMapper(palette = \"Cividis256\", low = 0, high = pop_df[\"Q12023\"].max())\n",
    "# color bar at bottom\n",
    "color_bar = ColorBar(color_mapper=color_mapper, label_standoff=8,width = 500, height = 20,\n",
    "                     border_line_color=None,location = (0,0), orientation = 'horizontal')\n",
    "\n",
    "# create figure\n",
    "p = figure(title=\"Q1 2023 Population by Province\")\n"
   ]
  },
  {
   "cell_type": "code",
   "execution_count": null,
   "id": "ff9c82e3",
   "metadata": {
    "scrolled": false
   },
   "outputs": [],
   "source": [
    "# This line will take a long time to run, likely due to high resolution of file\n",
    "plot_pop = p.patches(\"xs\",\"ys\",source=pop_geojson,\n",
    "          fill_color = {'field' :'Q12023', 'transform' : color_mapper})\n",
    "p.add_tools(HoverTool(renderers = [plot_pop], tooltips = [ ('Province','@Geography'),('Q1 2023 Pop', '@Q12023'),\n",
    "                               ('Q2 2023 Pop','@Q22023')]))\n",
    "\n",
    "\n",
    "plot_city = p.circle(x=\"Longitude\", y=\"Latitude\", size=10, fill_color=\"orange\", fill_alpha=0.8, source=gdf_geojson, )\n",
    "p.add_tools(HoverTool(renderers = [plot_city], tooltips = [ ('City',\"@City\"), ('Province','@Province')]))\n",
    "p.add_layout(color_bar, 'below')\n",
    "show(p)"
   ]
  }
 ],
 "metadata": {
  "kernelspec": {
   "display_name": "Python 3 (ipykernel)",
   "language": "python",
   "name": "python3"
  },
  "language_info": {
   "codemirror_mode": {
    "name": "ipython",
    "version": 3
   },
   "file_extension": ".py",
   "mimetype": "text/x-python",
   "name": "python",
   "nbconvert_exporter": "python",
   "pygments_lexer": "ipython3",
   "version": "3.9.15"
  }
 },
 "nbformat": 4,
 "nbformat_minor": 5
}
